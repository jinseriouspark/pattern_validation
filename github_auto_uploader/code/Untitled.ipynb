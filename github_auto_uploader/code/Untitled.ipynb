{
 "cells": [
  {
   "cell_type": "code",
   "execution_count": null,
   "metadata": {},
   "outputs": [],
   "source": [
    "from pathlib import Path\n",
    "import sys, os\n",
    "import requests\n",
    "\n",
    "import os.path\n",
    "import pathlib\n",
    "import json\n",
    "\n",
    "GITHUB_API_TOKEN='your token'\n",
    "OWNER='jinseriouspark'\n",
    "REPO='your target repo'\n",
    "\n",
    "# -----------------------------------------\n",
    "# Define variables.\n",
    "# -----------------------------------------\n",
    "GH_API='https://api.github.com'\n",
    "GH_REPO='%s/repos/%s/%s'%(GH_API, OWNER, REPO)"
   ]
  }
 ],
 "metadata": {
  "kernelspec": {
   "display_name": "Python 3",
   "language": "python",
   "name": "python3"
  },
  "language_info": {
   "codemirror_mode": {
    "name": "ipython",
    "version": 3
   },
   "file_extension": ".py",
   "mimetype": "text/x-python",
   "name": "python",
   "nbconvert_exporter": "python",
   "pygments_lexer": "ipython3",
   "version": "3.8.5"
  }
 },
 "nbformat": 4,
 "nbformat_minor": 4
}
